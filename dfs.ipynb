{
 "cells": [
  {
   "cell_type": "code",
   "execution_count": 2,
   "id": "c1325735",
   "metadata": {},
   "outputs": [
    {
     "name": "stdout",
     "output_type": "stream",
     "text": [
      "DFS using Stack:\n",
      "A B D E C F "
     ]
    }
   ],
   "source": [
    "def dfs(graph, start):\n",
    "    visited = set()             \n",
    "    stack = [start]             \n",
    "\n",
    "    while stack:                \n",
    "        current = stack.pop()   \n",
    "        if current not in visited:\n",
    "            print(current, end=\" \")   \n",
    "            visited.add(current)      \n",
    "            \n",
    "            for neighbor in reversed(graph[current]):\n",
    "                if neighbor not in visited:\n",
    "                    stack.append(neighbor)\n",
    "graph = {\n",
    "    'A': ['B', 'C'],\n",
    "    'B': ['D', 'E'],\n",
    "    'C': ['F'],\n",
    "    'D': [],\n",
    "    'E': [],\n",
    "    'F': []\n",
    "}\n",
    "\n",
    "print(\"DFS using Stack:\")\n",
    "dfs(graph, 'A')\n"
   ]
  }
 ],
 "metadata": {
  "kernelspec": {
   "display_name": "Python 3",
   "language": "python",
   "name": "python3"
  },
  "language_info": {
   "codemirror_mode": {
    "name": "ipython",
    "version": 3
   },
   "file_extension": ".py",
   "mimetype": "text/x-python",
   "name": "python",
   "nbconvert_exporter": "python",
   "pygments_lexer": "ipython3",
   "version": "3.13.1"
  }
 },
 "nbformat": 4,
 "nbformat_minor": 5
}
