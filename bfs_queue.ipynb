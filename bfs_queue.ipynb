{
 "cells": [
  {
   "cell_type": "code",
   "execution_count": 1,
   "id": "2b64a59e",
   "metadata": {},
   "outputs": [
    {
     "name": "stdout",
     "output_type": "stream",
     "text": [
      "BFS With Queue\n",
      "A B C D E F "
     ]
    }
   ],
   "source": [
    "graph = {\n",
    "    'A': ['B', 'C'],\n",
    "    'B': ['D', 'E'],\n",
    "    'C': ['F'],\n",
    "    'D': [],\n",
    "    'E': ['F'],\n",
    "    'F': []\n",
    "}\n",
    "\n",
    "def bfs_with_queue(graph, start):\n",
    "    visited = []          \n",
    "    queue = [start]       \n",
    "    \n",
    "    while queue:          \n",
    "        node = queue.pop(0) \n",
    "        \n",
    "        if node not in visited:\n",
    "            print(node, end=\" \")  \n",
    "            visited.append(node)  \n",
    "            \n",
    "            for neighbor in graph[node]:\n",
    "                if neighbor not in visited:\n",
    "                    queue.append(neighbor)   \n",
    "\n",
    "print(\"BFS With Queue\")\n",
    "bfs_with_queue(graph, 'A')\n"
   ]
  },
  {
   "cell_type": "markdown",
   "id": "9bfa2247",
   "metadata": {},
   "source": [
    "#### Without Queue\n"
   ]
  },
  {
   "cell_type": "code",
   "execution_count": 3,
   "id": "09791c06",
   "metadata": {},
   "outputs": [
    {
     "name": "stdout",
     "output_type": "stream",
     "text": [
      "BFS Without Queue:\n",
      "A B C D E F "
     ]
    }
   ],
   "source": [
    "graph = {\n",
    "    'A': ['B', 'C'],\n",
    "    'B': ['D', 'E'],\n",
    "    'C': ['F'],\n",
    "    'D': [],\n",
    "    'E': ['F'],\n",
    "    'F': []\n",
    "}\n",
    "\n",
    "visited_node = []\n",
    "\n",
    "def bfs_without_queue(graph, starting_node):\n",
    "    visited_node.append(starting_node)\n",
    "    print(starting_node, end=\" \")\n",
    "\n",
    "    for node in visited_node:\n",
    "        for neighbor in graph[node]:\n",
    "            if neighbor not in visited_node:\n",
    "                visited_node.append(neighbor)\n",
    "                print(neighbor, end=\" \")\n",
    "\n",
    "print(\"BFS Without Queue:\")\n",
    "bfs_without_queue(graph, 'A')\n"
   ]
  }
 ],
 "metadata": {
  "kernelspec": {
   "display_name": "Python 3",
   "language": "python",
   "name": "python3"
  },
  "language_info": {
   "codemirror_mode": {
    "name": "ipython",
    "version": 3
   },
   "file_extension": ".py",
   "mimetype": "text/x-python",
   "name": "python",
   "nbconvert_exporter": "python",
   "pygments_lexer": "ipython3",
   "version": "3.13.1"
  }
 },
 "nbformat": 4,
 "nbformat_minor": 5
}
