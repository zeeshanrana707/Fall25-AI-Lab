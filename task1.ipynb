{
 "cells": [
  {
   "cell_type": "code",
   "execution_count": 1,
   "id": "939ffb85",
   "metadata": {},
   "outputs": [
    {
     "name": "stdout",
     "output_type": "stream",
     "text": [
      "-------WELCOME TO DO LIST APP----\n",
      "Today's tasks are\n",
      "['Launch', 'dinner', 'gameing']\n",
      "Task namaz has been successfully added...\n",
      "Updated task {up}\n",
      "Total tasks = ['Launch', 'dinner', 'gameing', 'playing']\n",
      "Total tasks = ['Launch', 'dinner', 'gameing', 'playing']\n",
      "Total tasks = ['Launch', 'dinner', 'gameing', 'playing']\n",
      "Task dinner ha been deleted...\n",
      "Total tasks = ['Launch', 'gameing', 'playing']\n",
      "Closing the program....\n"
     ]
    }
   ],
   "source": [
    "def task():\n",
    "    tasks = [] #Empty list\n",
    "    print(\"-------WELCOME TO DO LIST APP----\")\n",
    "    \n",
    "    total_task = int(input(\"Enter how many task you want to add = \"))\n",
    "    for i in range(1, total_task + 1):\n",
    "        task_name = input(\"Enter task {i} = \")\n",
    "        tasks.append(task_name)\n",
    "    \n",
    "    print(f\"Today's tasks are\\n{tasks}\")\n",
    "    \n",
    "    while True:\n",
    "        operation = int(input(\"Enter \\n1-Add\\n2-Update\\n3-Delete\\n4-View\\n5-Exit/Stop\"))\n",
    "        if operation == 1:\n",
    "            add = input(\"Enter task you want to add = \")\n",
    "            tasks.append(add)\n",
    "            print(f\"Task {add} has been successfully added...\")\n",
    "        \n",
    "        elif operation == 2:\n",
    "            updated_val = input(\"Enter the task name you want to update = \")\n",
    "            if updated_val in tasks:\n",
    "                up = input(\"Enter new task = \")\n",
    "                ind = tasks.index(updated_val)\n",
    "                tasks[ind] = up\n",
    "                print(\"Updated task {up}\")\n",
    "        \n",
    "        elif operation == 3:\n",
    "            del_val = input(\"Enter task you want to delete = \")\n",
    "            if del_val in tasks:\n",
    "                ind = tasks.index(del_val)\n",
    "                del tasks[ind]\n",
    "                print(f\"Task {del_val} ha been deleted...\")\n",
    "        \n",
    "        elif operation == 4:\n",
    "            print(f\"Total tasks = {tasks}\")\n",
    "        \n",
    "        elif operation == 5:\n",
    "            print(\"Closing the program....\")\n",
    "            break\n",
    "        \n",
    "        else:\n",
    "            print(\"Invalid Input.\")\n",
    "\n",
    "task()"
   ]
  }
 ],
 "metadata": {
  "kernelspec": {
   "display_name": "base",
   "language": "python",
   "name": "python3"
  },
  "language_info": {
   "codemirror_mode": {
    "name": "ipython",
    "version": 3
   },
   "file_extension": ".py",
   "mimetype": "text/x-python",
   "name": "python",
   "nbconvert_exporter": "python",
   "pygments_lexer": "ipython3",
   "version": "3.12.7"
  }
 },
 "nbformat": 4,
 "nbformat_minor": 5
}
