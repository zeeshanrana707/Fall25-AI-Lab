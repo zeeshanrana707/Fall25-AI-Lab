{
 "cells": [
  {
   "cell_type": "code",
   "execution_count": 22,
   "id": "c3ef57e5",
   "metadata": {},
   "outputs": [
    {
     "name": "stdout",
     "output_type": "stream",
     "text": [
      "9\n",
      "[8, 2, 7, 5, 4, 5, 1, 1, 4, 0, 8, 3, 9, 8, 5]\n",
      "[7, 2, 5, 5, 8, 5, 2, 1, 8, 0, 7, 3, 9, 8, 1]\n",
      "80\n",
      "Card is valid\n"
     ]
    }
   ],
   "source": [
    "n = [5,8,9,3,8,0,4,1,1,5,4,5,7,2,8,9]\n",
    "x = n.pop()\n",
    "print(x)\n",
    "rev = n[::-1]\n",
    "print(rev)\n",
    "for i in range(0, len(rev), 2):\n",
    "    rev[i] *= 2\n",
    "    if rev[i] > 9:\n",
    "        rev[i] -= 9\n",
    "print(rev)\n",
    "total = sum(rev) + x\n",
    "print(total)\n",
    "\n",
    "if total % 10 == 0:\n",
    "    print(\"Card is valid\")\n",
    "else:\n",
    "    print(\"Invalid card\")"
   ]
  },
  {
   "cell_type": "code",
   "execution_count": 23,
   "id": "35126dcf",
   "metadata": {},
   "outputs": [
    {
     "name": "stderr",
     "output_type": "stream",
     "text": [
      "<>:2: SyntaxWarning: invalid escape sequence '\\,'\n",
      "<>:2: SyntaxWarning: invalid escape sequence '\\,'\n",
      "C:\\Users\\rh378\\AppData\\Local\\Temp\\ipykernel_9448\\681902814.py:2: SyntaxWarning: invalid escape sequence '\\,'\n",
      "  punctuation = '''!()-[]{};:'\"\\,<>./?@#$%^&*_~'''\n"
     ]
    },
    {
     "name": "stdout",
     "output_type": "stream",
     "text": [
      "Original: hello, my name is. 34\n",
      "Without punctuations: hello my name is 34\n"
     ]
    }
   ],
   "source": [
    "sentence = input(\"Enter a sentence: \")\n",
    "punctuation = '''!()-[]{};:'\"\\,<>./?@#$%^&*_~'''\n",
    "res = \"\"\n",
    "for ch in sentence:\n",
    "    if ch not in punctuation:\n",
    "        res += ch\n",
    "print(\"Original:\", sentence)\n",
    "print(\"Without punctuations:\", res)"
   ]
  }
 ],
 "metadata": {
  "kernelspec": {
   "display_name": "Python 3",
   "language": "python",
   "name": "python3"
  },
  "language_info": {
   "codemirror_mode": {
    "name": "ipython",
    "version": 3
   },
   "file_extension": ".py",
   "mimetype": "text/x-python",
   "name": "python",
   "nbconvert_exporter": "python",
   "pygments_lexer": "ipython3",
   "version": "3.13.1"
  }
 },
 "nbformat": 4,
 "nbformat_minor": 5
}
