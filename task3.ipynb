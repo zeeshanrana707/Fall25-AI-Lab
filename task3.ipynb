{
 "cells": [
  {
   "cell_type": "code",
   "execution_count": 3,
   "id": "fbc93e72",
   "metadata": {},
   "outputs": [
    {
     "name": "stdout",
     "output_type": "stream",
     "text": [
      "\n",
      "Living Room:\n",
      "25 °C => Action: Turn ON the AC | AC State: ON\n",
      "\n",
      "Bedroom:\n",
      "22 °C => Action: Turn OFF the AC | AC State: OFF\n",
      "\n",
      "Kitchen:\n",
      "20 °C => Action: Do nothing | AC State: OFF\n",
      "\n",
      "Drawing Room:\n",
      "27 °C => Action: Turn ON the AC | AC State: ON\n",
      "\n",
      "Store Room:\n",
      "21 °C => Action: Turn OFF the AC | AC State: OFF\n"
     ]
    }
   ],
   "source": [
    "class ModelBasedReflexAgentAC:\n",
    "    def __init__(self, desired_temp):\n",
    "        self.desired_temp = desired_temp\n",
    "        self.current_temp = None\n",
    "        self.previous_action = \"OFF\" \n",
    "\n",
    "    def sensor(self, temp):\n",
    "        self.current_temp = temp\n",
    "\n",
    "    def performance(self):\n",
    "        action = None\n",
    "\n",
    "        if self.current_temp > self.desired_temp and self.previous_action == \"OFF\":\n",
    "            action = \"Turn ON the AC\"\n",
    "            self.previous_action = \"ON\"\n",
    "\n",
    "        elif self.current_temp <= self.desired_temp and self.previous_action == \"ON\":\n",
    "            action = \"Turn OFF the AC\"\n",
    "            self.previous_action = \"OFF\"\n",
    "\n",
    "        else:\n",
    "            action = \"Do nothing\"\n",
    "\n",
    "        return action\n",
    "\n",
    "    def actuator(self):\n",
    "        action = self.performance()\n",
    "        print(self.current_temp, \"°C => Action:\", action, \"| AC State:\", self.previous_action)\n",
    "\n",
    "\n",
    "agent = ModelBasedReflexAgentAC(22) \n",
    "\n",
    "rooms = {\n",
    "    \"Living Room\": 25,\n",
    "    \"Bedroom\": 22,\n",
    "    \"Kitchen\": 20,\n",
    "    \"Drawing Room\": 27,\n",
    "    \"Store Room\": 21,\n",
    "}\n",
    "\n",
    "for room, temp in rooms.items():\n",
    "    print(f\"\\n{room}:\")\n",
    "    agent.sensor(temp)\n",
    "    agent.actuator()\n"
   ]
  }
 ],
 "metadata": {
  "kernelspec": {
   "display_name": "Python 3",
   "language": "python",
   "name": "python3"
  },
  "language_info": {
   "codemirror_mode": {
    "name": "ipython",
    "version": 3
   },
   "file_extension": ".py",
   "mimetype": "text/x-python",
   "name": "python",
   "nbconvert_exporter": "python",
   "pygments_lexer": "ipython3",
   "version": "3.13.1"
  }
 },
 "nbformat": 4,
 "nbformat_minor": 5
}
